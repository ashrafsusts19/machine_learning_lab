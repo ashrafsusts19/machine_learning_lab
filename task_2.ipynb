{
  "nbformat": 4,
  "nbformat_minor": 0,
  "metadata": {
    "colab": {
      "provenance": [],
      "authorship_tag": "ABX9TyMLAGqKAi+CSGLimLGFLqGX",
      "include_colab_link": true
    },
    "kernelspec": {
      "name": "python3",
      "display_name": "Python 3"
    },
    "language_info": {
      "name": "python"
    }
  },
  "cells": [
    {
      "cell_type": "markdown",
      "metadata": {
        "id": "view-in-github",
        "colab_type": "text"
      },
      "source": [
        "<a href=\"https://colab.research.google.com/github/ashrafsusts19/machine_learning_lab/blob/main/task_2.ipynb\" target=\"_parent\"><img src=\"https://colab.research.google.com/assets/colab-badge.svg\" alt=\"Open In Colab\"/></a>"
      ]
    },
    {
      "cell_type": "code",
      "execution_count": 46,
      "metadata": {
        "colab": {
          "base_uri": "https://localhost:8080/"
        },
        "id": "dfp3m6YOC45r",
        "outputId": "172ff393-91a9-472f-b5b1-c5479ca7623a"
      },
      "outputs": [
        {
          "output_type": "stream",
          "name": "stdout",
          "text": [
            "Drive already mounted at /content/drive; to attempt to forcibly remount, call drive.mount(\"/content/drive\", force_remount=True).\n",
            "Number of Samples: 5216\n",
            "Normal Sample: 1341\n",
            "Pneumonia Samples: 3875\n"
          ]
        }
      ],
      "source": [
        "import pandas as pd\n",
        "import numpy as np\n",
        "import os\n",
        "from PIL import Image\n",
        "import tensorflow as tf\n",
        "from tensorflow import keras\n",
        "from sklearn import preprocessing\n",
        "from google.colab import drive\n",
        "drive.mount('/content/drive')\n",
        "\n",
        "pathPneu = '/content/drive/MyDrive/X-Ray/train/PNEUMONIA'\n",
        "pathNormal = '/content/drive/MyDrive/X-Ray/train/NORMAL'\n",
        "pathValPneu = '/content/drive/MyDrive/X-Ray/val/PNEUMONIA'\n",
        "pathValNormal = '/content/drive/MyDrive/X-Ray/val/NORMAL'\n",
        "pathTestPneu = '/content/drive/MyDrive/X-Ray/test/PNEUMONIA'\n",
        "pathTestNormal = '/content/drive/MyDrive/X-Ray/test/NORMAL'\n",
        "\n",
        "normalFiles = os.listdir(pathNormal)\n",
        "pneuFiles = os.listdir(pathPneu)\n",
        "normalValFiles = os.listdir(pathValNormal)\n",
        "pneuValFiles = os.listdir(pathValPneu)\n",
        "normalTestFiles = os.listdir(pathTestNormal)\n",
        "pneuTestFiles = os.listdir(pathTestPneu)\n",
        "\n",
        "\n",
        "data = []\n",
        "countNormal, countPneu = 0, 0\n",
        "countTestNormal, countTestPneu = 0, 0\n",
        "\n",
        "for img in normalFiles:\n",
        "    countNormal += 1\n",
        "    image=Image.open(pathNormal +'/'+img).resize((128,128)).convert('RGB')\n",
        "    image=np.array(image)\n",
        "    data.append(image)\n",
        "    # if countNormal == 25:\n",
        "    #   break\n",
        "\n",
        "for img in pneuFiles:\n",
        "    countPneu += 1\n",
        "    image=Image.open(pathPneu + '/' +img).resize((128,128)).convert('RGB')\n",
        "    image=np.array(image)\n",
        "    data.append(image)\n",
        "    # if countPneu == 25:\n",
        "    #   break\n",
        "\n",
        "dataVal = []\n",
        "for img in normalValFiles:\n",
        "    image=Image.open(pathValNormal +'/'+img).resize((128,128)).convert('RGB')\n",
        "    image=np.array(image)\n",
        "    dataVal.append(image)\n",
        "\n",
        "\n",
        "for img in pneuValFiles:\n",
        "    image=Image.open(pathValPneu +'/'+img).resize((128,128)).convert('RGB')\n",
        "    image=np.array(image)\n",
        "    dataVal.append(image)\n",
        "\n",
        "\n",
        "dataTest = []\n",
        "for img in normalTestFiles:\n",
        "    countTestNormal += 1\n",
        "    image=Image.open(pathTestNormal +'/'+img).resize((128,128)).convert('RGB')\n",
        "    image=np.array(image)\n",
        "    dataTest.append(image)\n",
        "    # if countTestNormal == 25:\n",
        "    #     break\n",
        "\n",
        "\n",
        "for img in pneuTestFiles:\n",
        "    countTestPneu += 1\n",
        "    image=Image.open(pathTestPneu +'/'+img).resize((128,128)).convert('RGB')\n",
        "    image=np.array(image)\n",
        "    dataTest.append(image)\n",
        "    # if countTestPneu == 25:\n",
        "    #     break\n",
        "\n",
        "\n",
        "print(\"Number of Samples:\", len(data))\n",
        "print(\"Normal Sample:\", len(normalFiles))\n",
        "print(\"Pneumonia Samples:\", len(pneuFiles))\n"
      ]
    },
    {
      "cell_type": "code",
      "source": [
        "allSampleResults = [0] * countNormal + [1] * countPneu\n",
        "allValSampleResults = [0] * len(normalValFiles) + [1] * len(pneuValFiles)\n",
        "allTestSampleResults = [0] * countTestNormal + [1] * countTestPneu\n",
        "\n",
        "X = np.array(data)\n",
        "Y = np.array(allSampleResults)\n",
        "\n",
        "X_val = np.array(dataVal)\n",
        "Y_val = np.array(allValSampleResults)\n",
        "\n",
        "X_Test = np.array(dataTest)\n",
        "Y_Test = np.array(allTestSampleResults)\n",
        "\n",
        "X_scaled = X / 255\n",
        "X_val_scaled = X_val / 255\n",
        "X_test_scaled = X_Test / 255"
      ],
      "metadata": {
        "id": "Kw5hnjLGNUN5"
      },
      "execution_count": 47,
      "outputs": []
    },
    {
      "cell_type": "code",
      "source": [
        "noClasses = 2\n",
        "\n",
        "model = keras.Sequential()\n",
        "\n",
        "model.add(keras.layers.Conv2D(64, kernel_size=(3, 3), activation='relu', input_shape=(128, 128, 3)))\n",
        "model.add(keras.layers.MaxPooling2D(pool_size=(2, 2)))\n",
        "\n",
        "model.add(keras.layers.Conv2D(128, kernel_size=(4, 4), activation='relu'))\n",
        "model.add(keras.layers.MaxPooling2D(pool_size=(3, 3)))\n",
        "\n",
        "model.add(keras.layers.Flatten())\n",
        "\n",
        "model.add(keras.layers.Dense(256, activation='relu'))\n",
        "model.add(keras.layers.Dropout(0.3))\n",
        "\n",
        "model.add(keras.layers.Dense(128, activation='relu'))\n",
        "model.add(keras.layers.Dropout(0.3))\n",
        "\n",
        "model.add(keras.layers.Dense(noClasses, activation = 'sigmoid'))\n",
        "\n",
        "model.compile(\n",
        "    optimizer = 'adam',\n",
        "    loss = 'sparse_categorical_crossentropy',\n",
        "    metrics = ['accuracy']\n",
        ")\n",
        "\n",
        "\n",
        "history = model.fit(X_scaled,Y, validation_data = (X_val_scaled, Y_val), verbose = 1, epochs = 5)"
      ],
      "metadata": {
        "colab": {
          "base_uri": "https://localhost:8080/"
        },
        "id": "9cy56CJ8ORtM",
        "outputId": "3b4694c8-a6e6-41d6-fd4e-90fbbb0ce03f"
      },
      "execution_count": null,
      "outputs": [
        {
          "output_type": "stream",
          "name": "stdout",
          "text": [
            "Epoch 1/5\n",
            "163/163 [==============================] - 581s 4s/step - loss: 0.2951 - accuracy: 0.8834 - val_loss: 0.7412 - val_accuracy: 0.7500\n",
            "Epoch 2/5\n",
            "163/163 [==============================] - 579s 4s/step - loss: 0.1331 - accuracy: 0.9534 - val_loss: 0.2888 - val_accuracy: 0.9375\n",
            "Epoch 3/5\n",
            "163/163 [==============================] - 581s 4s/step - loss: 0.1008 - accuracy: 0.9632 - val_loss: 0.2831 - val_accuracy: 0.9375\n",
            "Epoch 4/5\n",
            "163/163 [==============================] - 588s 4s/step - loss: 0.0780 - accuracy: 0.9741 - val_loss: 0.4313 - val_accuracy: 0.8750\n",
            "Epoch 5/5\n",
            " 88/163 [===============>..............] - ETA: 4:18 - loss: 0.0855 - accuracy: 0.9702"
          ]
        }
      ]
    },
    {
      "cell_type": "code",
      "source": [
        "loss, accuracy = model.evaluate(X_test_scaled, Y_Test)\n",
        "print(\"Loss:\", loss, \"Accuracy:\", accuracy)\n"
      ],
      "metadata": {
        "colab": {
          "base_uri": "https://localhost:8080/"
        },
        "id": "63y1lvveRBEQ",
        "outputId": "3ece4874-7b30-47ea-a871-772d692f3239"
      },
      "execution_count": 49,
      "outputs": [
        {
          "output_type": "stream",
          "name": "stdout",
          "text": [
            "20/20 [==============================] - 18s 875ms/step - loss: 1.4314 - accuracy: 0.7035\n",
            "Loss: 1.4313623905181885 Accuracy: 0.7035256624221802\n"
          ]
        }
      ]
    }
  ]
}